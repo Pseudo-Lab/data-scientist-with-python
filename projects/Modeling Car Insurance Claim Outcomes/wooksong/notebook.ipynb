{
 "cells": [
  {
   "attachments": {},
   "cell_type": "markdown",
   "id": "c3f0e974-faf8-458f-bf2a-06a469d0ea5e",
   "metadata": {},
   "source": [
    "![car](car.jpg)\n",
    "\n",
    "Insurance companies invest a lot of [time and money](https://www.accenture.com/_acnmedia/pdf-84/accenture-machine-leaning-insurance.pdf) into optimizing their pricing and accurately estimating the likelihood that customers will make a claim. In many countries insurance it is a legal requirement to have car insurance in order to drive a vehicle on public roads, so the market is very large!\n",
    "\n",
    "Knowing all of this, On the Road car insurance have requested your services in building a model to predict whether a customer will make a claim on their insurance during the policy period. As they have very little expertise and infrastructure for deploying and monitoring machine learning models, they've asked you to identify the single feature that results in the best performing model, as measured by accuracy, so they can start with a simple model in production.\n",
    "\n",
    "They have supplied you with their customer data as a csv file called `car_insurance.csv`, along with a table detailing the column names and descriptions below."
   ]
  },
  {
   "cell_type": "markdown",
   "id": "8928ffdf-25d6-4ad9-909f-0dd8d10b9a42",
   "metadata": {},
   "source": [
    "\n",
    "\n",
    "## The dataset\n",
    "\n",
    "| Column | Description |\n",
    "|--------|-------------|\n",
    "| `id` | Unique client identifier |\n",
    "| `age` | Client's age: <br> <ul><li>`0`: 16-25</li><li>`1`: 26-39</li><li>`2`: 40-64</li><li>`3`: 65+</li></ul> |\n",
    "| `gender` | Client's gender: <br> <ul><li>`0`: Female</li><li>`1`: Male</li></ul> |\n",
    "| `driving_experience` | Years the client has been driving: <br> <ul><li>`0`: 0-9</li><li>`1`: 10-19</li><li>`2`: 20-29</li><li>`3`: 30+</li></ul> |\n",
    "| `education` | Client's level of education: <br> <ul><li>`0`: No education</li><li>`1`: High school</li><li>`2`: University</li></ul> |\n",
    "| `income` | Client's income level: <br> <ul><li>`0`: Poverty</li><li>`1`: Working class</li><li>`2`: Middle class</li><li>`3`: Upper class</li></ul> |\n",
    "| `credit_score` | Client's credit score (between zero and one) |\n",
    "| `vehicle_ownership` | Client's vehicle ownership status: <br><ul><li>`0`: Does not own their vehilce (paying off finance)</li><li>`1`: Owns their vehicle</li></ul> |\n",
    "| `vehcile_year` | Year of vehicle registration: <br><ul><li>`0`: Before 2015</li><li>`1`: 2015 or later</li></ul> |\n",
    "| `married` | Client's marital status: <br><ul><li>`0`: Not married</li><li>`1`: Married</li></ul> |\n",
    "| `children` | Client's number of children |\n",
    "| `postal_code` | Client's postal code | \n",
    "| `annual_mileage` | Number of miles driven by the client each year |\n",
    "| `vehicle_type` | Type of car: <br> <ul><li>`0`: Sedan</li><li>`1`: Sports car</li></ul> |\n",
    "| `speeding_violations` | Total number of speeding violations received by the client | \n",
    "| `duis` | Number of times the client has been caught driving under the influence of alcohol |\n",
    "| `past_accidents` | Total number of previous accidents the client has been involved in |\n",
    "| `outcome` | Whether the client made a claim on their car insurance (response variable): <br><ul><li>`0`: No claim</li><li>`1`: Made a claim</li></ul> |"
   ]
  },
  {
   "cell_type": "code",
   "execution_count": 1,
   "id": "d0eb4f16-5a99-460d-a5ba-706b7ef0bbe7",
   "metadata": {
    "executionCancelledAt": null,
    "executionTime": null,
    "id": "bA5ajAmk7XH6",
    "lastExecutedAt": null,
    "lastExecutedByKernel": null,
    "lastScheduledRunId": null,
    "lastSuccessfullyExecutedCode": null,
    "outputsMetadata": {
     "0": {
      "height": 542,
      "type": "stream"
     }
    }
   },
   "outputs": [
    {
     "name": "stdout",
     "output_type": "stream",
     "text": [
      "<class 'pandas.core.frame.DataFrame'>\n",
      "RangeIndex: 10000 entries, 0 to 9999\n",
      "Data columns (total 18 columns):\n",
      "id                     10000 non-null int64\n",
      "age                    10000 non-null int64\n",
      "gender                 10000 non-null int64\n",
      "driving_experience     10000 non-null object\n",
      "education              10000 non-null object\n",
      "income                 10000 non-null object\n",
      "credit_score           9018 non-null float64\n",
      "vehicle_ownership      10000 non-null float64\n",
      "vehicle_year           10000 non-null object\n",
      "married                10000 non-null float64\n",
      "children               10000 non-null float64\n",
      "postal_code            10000 non-null int64\n",
      "annual_mileage         9043 non-null float64\n",
      "vehicle_type           10000 non-null object\n",
      "speeding_violations    10000 non-null int64\n",
      "duis                   10000 non-null int64\n",
      "past_accidents         10000 non-null int64\n",
      "outcome                10000 non-null float64\n",
      "dtypes: float64(6), int64(7), object(5)\n",
      "memory usage: 1.4+ MB\n"
     ]
    }
   ],
   "source": [
    "# Import required modules\n",
    "import pandas as pd\n",
    "import numpy as np\n",
    "from statsmodels.formula.api import logit\n",
    "\n",
    "# Start coding!\n",
    "df = pd.read_csv('car_insurance.csv', delimiter=',')\n",
    "df.info()"
   ]
  },
  {
   "cell_type": "code",
   "execution_count": 2,
   "id": "0ffa8b7c-9e50-4679-854e-6a923e4e6269",
   "metadata": {
    "executionCancelledAt": null,
    "executionTime": 52,
    "lastExecutedAt": 1730992114573,
    "lastExecutedByKernel": "9626efa4-8349-417d-8a8b-a34a54fca6ca",
    "lastScheduledRunId": null,
    "lastSuccessfullyExecutedCode": "df['credit_score'].fillna(df['credit_score'].mean(), inplace=True)\ndf['annual_mileage'].fillna(df['annual_mileage'].mean(), inplace=True)"
   },
   "outputs": [],
   "source": [
    "df['credit_score'].fillna(df['credit_score'].mean(), inplace=True)\n",
    "df['annual_mileage'].fillna(df['annual_mileage'].mean(), inplace=True)"
   ]
  },
  {
   "cell_type": "code",
   "execution_count": null,
   "id": "b252c67d-7065-474e-baa8-49a08ce4d482",
   "metadata": {
    "executionCancelledAt": null,
    "executionTime": null,
    "lastExecutedAt": null,
    "lastExecutedByKernel": null,
    "lastScheduledRunId": null,
    "lastSuccessfullyExecutedCode": null,
    "outputsMetadata": {
     "0": {
      "height": 616,
      "type": "stream"
     }
    }
   },
   "outputs": [
    {
     "name": "stdout",
     "output_type": "stream",
     "text": [
      "Optimization terminated successfully.\n",
      "         Current function value: 0.511794\n",
      "         Iterations 6\n",
      "Optimization terminated successfully.\n",
      "         Current function value: 0.615951\n",
      "         Iterations 5\n",
      "Optimization terminated successfully.\n",
      "         Current function value: 0.467092\n",
      "         Iterations 8\n",
      "Optimization terminated successfully.\n",
      "         Current function value: 0.603742\n",
      "         Iterations 5\n",
      "Optimization terminated successfully.\n",
      "         Current function value: 0.531499\n",
      "         Iterations 6\n",
      "Optimization terminated successfully.\n",
      "         Current function value: 0.572557\n",
      "         Iterations 6\n",
      "Optimization terminated successfully.\n",
      "         Current function value: 0.552412\n",
      "         Iterations 5\n",
      "Optimization terminated successfully.\n",
      "         Current function value: 0.572668\n",
      "         Iterations 6\n",
      "Optimization terminated successfully.\n",
      "         Current function value: 0.586659\n",
      "         Iterations 5\n",
      "Optimization terminated successfully.\n",
      "         Current function value: 0.595431\n",
      "         Iterations 5\n",
      "Optimization terminated successfully.\n",
      "         Current function value: 0.617345\n",
      "         Iterations 5\n",
      "Optimization terminated successfully.\n",
      "         Current function value: 0.605716\n",
      "         Iterations 5\n",
      "Optimization terminated successfully.\n",
      "         Current function value: 0.621700\n",
      "         Iterations 5\n",
      "Optimization terminated successfully.\n",
      "         Current function value: 0.558922\n",
      "         Iterations 7\n",
      "Optimization terminated successfully.\n",
      "         Current function value: 0.598699\n",
      "         Iterations 6\n",
      "Optimization terminated successfully.\n",
      "         Current function value: 0.549220\n",
      "         Iterations 7\n"
     ]
    }
   ],
   "source": [
    "features = df.iloc[:, 1:-1].columns\n",
    "\n",
    "logit_models = list()\n",
    "for feature in features:\n",
    "    logit_model = logit(f'outcome ~ {feature}', data = df).fit()\n",
    "    logit_models.append(logit_model)"
   ]
  },
  {
   "cell_type": "code",
   "execution_count": 5,
   "id": "04b024d5-ea07-4aa9-a329-6867a678cffe",
   "metadata": {
    "executionCancelledAt": null,
    "executionTime": 334,
    "lastExecutedAt": 1730993135785,
    "lastExecutedByKernel": "9626efa4-8349-417d-8a8b-a34a54fca6ca",
    "lastScheduledRunId": null,
    "lastSuccessfullyExecutedCode": "accs = list()\nfor idx in range(len(logit_models)):\n    pred_table = logit_models[idx].pred_table()\n    tn = pred_table[0,0]\n    # True positives\n    tp = pred_table[1,1]\n    # False negatives\n    fn = pred_table[1,0]\n    # False positives\n    fp = pred_table[0,1]\n    # Compute accuracy\n    acc = (tn + tp) / (tn + fn + fp + tp)\n    accs.append(acc)"
   },
   "outputs": [],
   "source": [
    "accs = list()\n",
    "for idx in range(len(logit_models)):\n",
    "    pred_table = logit_models[idx].pred_table()\n",
    "    tn = pred_table[0,0]\n",
    "    # True positives\n",
    "    tp = pred_table[1,1]\n",
    "    # False negatives\n",
    "    fn = pred_table[1,0]\n",
    "    # False positives\n",
    "    fp = pred_table[0,1]\n",
    "    # Compute accuracy\n",
    "    acc = (tn + tp) / (tn + fn + fp + tp)\n",
    "    accs.append(acc)"
   ]
  },
  {
   "cell_type": "code",
   "execution_count": null,
   "id": "9051d320-f2bd-4017-b030-d577874b4310",
   "metadata": {
    "executionCancelledAt": null,
    "executionTime": 62,
    "lastExecutedAt": 1730993168741,
    "lastExecutedByKernel": "9626efa4-8349-417d-8a8b-a34a54fca6ca",
    "lastScheduledRunId": null,
    "lastSuccessfullyExecutedCode": "accs"
   },
   "outputs": [
    {
     "name": "stdout",
     "output_type": "stream",
     "text": [
      "driving_experience\n"
     ]
    }
   ],
   "source": [
    "max_acc = max(accs)\n",
    "max_acc_idx = -1\n",
    "for idx in range(len(accs)):\n",
    "    if (accs[idx] == max_acc):\n",
    "        max_acc_idx = idx\n",
    "        break"
   ]
  },
  {
   "cell_type": "code",
   "execution_count": null,
   "id": "be2fc8d8",
   "metadata": {},
   "outputs": [],
   "source": [
    "best_feature_df = pd.DataFrame({'best_feature' : features[max_acc_idx], 'best_accuracy' : accs[max_acc_idx]}, index=[0])"
   ]
  }
 ],
 "metadata": {
  "colab": {
   "name": "Welcome to DataCamp Workspaces.ipynb",
   "provenance": []
  },
  "editor": "DataCamp Workspace",
  "kernelspec": {
   "display_name": "ds_lv3_lab_py374",
   "language": "python",
   "name": "python3"
  },
  "language_info": {
   "codemirror_mode": {
    "name": "ipython",
    "version": 3
   },
   "file_extension": ".py",
   "mimetype": "text/x-python",
   "name": "python",
   "nbconvert_exporter": "python",
   "pygments_lexer": "ipython3",
   "version": "3.7.12"
  }
 },
 "nbformat": 4,
 "nbformat_minor": 5
}
